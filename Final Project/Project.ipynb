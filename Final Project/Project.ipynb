{
  "nbformat": 4,
  "nbformat_minor": 0,
  "metadata": {
    "colab": {
      "provenance": [],
      "collapsed_sections": []
    },
    "kernelspec": {
      "name": "python3",
      "display_name": "Python 3"
    },
    "language_info": {
      "name": "python"
    },
    "accelerator": "GPU",
    "gpuClass": "standard",
    "widgets": {
      "application/vnd.jupyter.widget-state+json": {
        "d622f636ded84408a9805d21e523dba2": {
          "model_module": "@jupyter-widgets/controls",
          "model_name": "HBoxModel",
          "model_module_version": "1.5.0",
          "state": {
            "_dom_classes": [],
            "_model_module": "@jupyter-widgets/controls",
            "_model_module_version": "1.5.0",
            "_model_name": "HBoxModel",
            "_view_count": null,
            "_view_module": "@jupyter-widgets/controls",
            "_view_module_version": "1.5.0",
            "_view_name": "HBoxView",
            "box_style": "",
            "children": [
              "IPY_MODEL_656bb81a7b174a4b92ba74a2feb3133c",
              "IPY_MODEL_7317fd8c8f70414f8f976c72848a3a2d",
              "IPY_MODEL_5472612e94154580b7354d7b228d34e2"
            ],
            "layout": "IPY_MODEL_ee2ca40f17ae4a6185fc7c42d7809687"
          }
        },
        "656bb81a7b174a4b92ba74a2feb3133c": {
          "model_module": "@jupyter-widgets/controls",
          "model_name": "HTMLModel",
          "model_module_version": "1.5.0",
          "state": {
            "_dom_classes": [],
            "_model_module": "@jupyter-widgets/controls",
            "_model_module_version": "1.5.0",
            "_model_name": "HTMLModel",
            "_view_count": null,
            "_view_module": "@jupyter-widgets/controls",
            "_view_module_version": "1.5.0",
            "_view_name": "HTMLView",
            "description": "",
            "description_tooltip": null,
            "layout": "IPY_MODEL_2740b5bc968f4667aa2b5dd0b81a1b97",
            "placeholder": "​",
            "style": "IPY_MODEL_e7810533eb6b404d8f347a5035c1c889",
            "value": "100%"
          }
        },
        "7317fd8c8f70414f8f976c72848a3a2d": {
          "model_module": "@jupyter-widgets/controls",
          "model_name": "FloatProgressModel",
          "model_module_version": "1.5.0",
          "state": {
            "_dom_classes": [],
            "_model_module": "@jupyter-widgets/controls",
            "_model_module_version": "1.5.0",
            "_model_name": "FloatProgressModel",
            "_view_count": null,
            "_view_module": "@jupyter-widgets/controls",
            "_view_module_version": "1.5.0",
            "_view_name": "ProgressView",
            "bar_style": "success",
            "description": "",
            "description_tooltip": null,
            "layout": "IPY_MODEL_93e3952edf8a4f0ea34f543df73f55d4",
            "max": 553433881,
            "min": 0,
            "orientation": "horizontal",
            "style": "IPY_MODEL_1b7b5c1676234e5a9391ebe5e08264fa",
            "value": 553433881
          }
        },
        "5472612e94154580b7354d7b228d34e2": {
          "model_module": "@jupyter-widgets/controls",
          "model_name": "HTMLModel",
          "model_module_version": "1.5.0",
          "state": {
            "_dom_classes": [],
            "_model_module": "@jupyter-widgets/controls",
            "_model_module_version": "1.5.0",
            "_model_name": "HTMLModel",
            "_view_count": null,
            "_view_module": "@jupyter-widgets/controls",
            "_view_module_version": "1.5.0",
            "_view_name": "HTMLView",
            "description": "",
            "description_tooltip": null,
            "layout": "IPY_MODEL_7693cd66b9d14c83ba9d5b9796bf51cc",
            "placeholder": "​",
            "style": "IPY_MODEL_6b05143c74314cf08586ff210e257e2a",
            "value": " 528M/528M [00:02&lt;00:00, 246MB/s]"
          }
        },
        "ee2ca40f17ae4a6185fc7c42d7809687": {
          "model_module": "@jupyter-widgets/base",
          "model_name": "LayoutModel",
          "model_module_version": "1.2.0",
          "state": {
            "_model_module": "@jupyter-widgets/base",
            "_model_module_version": "1.2.0",
            "_model_name": "LayoutModel",
            "_view_count": null,
            "_view_module": "@jupyter-widgets/base",
            "_view_module_version": "1.2.0",
            "_view_name": "LayoutView",
            "align_content": null,
            "align_items": null,
            "align_self": null,
            "border": null,
            "bottom": null,
            "display": null,
            "flex": null,
            "flex_flow": null,
            "grid_area": null,
            "grid_auto_columns": null,
            "grid_auto_flow": null,
            "grid_auto_rows": null,
            "grid_column": null,
            "grid_gap": null,
            "grid_row": null,
            "grid_template_areas": null,
            "grid_template_columns": null,
            "grid_template_rows": null,
            "height": null,
            "justify_content": null,
            "justify_items": null,
            "left": null,
            "margin": null,
            "max_height": null,
            "max_width": null,
            "min_height": null,
            "min_width": null,
            "object_fit": null,
            "object_position": null,
            "order": null,
            "overflow": null,
            "overflow_x": null,
            "overflow_y": null,
            "padding": null,
            "right": null,
            "top": null,
            "visibility": null,
            "width": null
          }
        },
        "2740b5bc968f4667aa2b5dd0b81a1b97": {
          "model_module": "@jupyter-widgets/base",
          "model_name": "LayoutModel",
          "model_module_version": "1.2.0",
          "state": {
            "_model_module": "@jupyter-widgets/base",
            "_model_module_version": "1.2.0",
            "_model_name": "LayoutModel",
            "_view_count": null,
            "_view_module": "@jupyter-widgets/base",
            "_view_module_version": "1.2.0",
            "_view_name": "LayoutView",
            "align_content": null,
            "align_items": null,
            "align_self": null,
            "border": null,
            "bottom": null,
            "display": null,
            "flex": null,
            "flex_flow": null,
            "grid_area": null,
            "grid_auto_columns": null,
            "grid_auto_flow": null,
            "grid_auto_rows": null,
            "grid_column": null,
            "grid_gap": null,
            "grid_row": null,
            "grid_template_areas": null,
            "grid_template_columns": null,
            "grid_template_rows": null,
            "height": null,
            "justify_content": null,
            "justify_items": null,
            "left": null,
            "margin": null,
            "max_height": null,
            "max_width": null,
            "min_height": null,
            "min_width": null,
            "object_fit": null,
            "object_position": null,
            "order": null,
            "overflow": null,
            "overflow_x": null,
            "overflow_y": null,
            "padding": null,
            "right": null,
            "top": null,
            "visibility": null,
            "width": null
          }
        },
        "e7810533eb6b404d8f347a5035c1c889": {
          "model_module": "@jupyter-widgets/controls",
          "model_name": "DescriptionStyleModel",
          "model_module_version": "1.5.0",
          "state": {
            "_model_module": "@jupyter-widgets/controls",
            "_model_module_version": "1.5.0",
            "_model_name": "DescriptionStyleModel",
            "_view_count": null,
            "_view_module": "@jupyter-widgets/base",
            "_view_module_version": "1.2.0",
            "_view_name": "StyleView",
            "description_width": ""
          }
        },
        "93e3952edf8a4f0ea34f543df73f55d4": {
          "model_module": "@jupyter-widgets/base",
          "model_name": "LayoutModel",
          "model_module_version": "1.2.0",
          "state": {
            "_model_module": "@jupyter-widgets/base",
            "_model_module_version": "1.2.0",
            "_model_name": "LayoutModel",
            "_view_count": null,
            "_view_module": "@jupyter-widgets/base",
            "_view_module_version": "1.2.0",
            "_view_name": "LayoutView",
            "align_content": null,
            "align_items": null,
            "align_self": null,
            "border": null,
            "bottom": null,
            "display": null,
            "flex": null,
            "flex_flow": null,
            "grid_area": null,
            "grid_auto_columns": null,
            "grid_auto_flow": null,
            "grid_auto_rows": null,
            "grid_column": null,
            "grid_gap": null,
            "grid_row": null,
            "grid_template_areas": null,
            "grid_template_columns": null,
            "grid_template_rows": null,
            "height": null,
            "justify_content": null,
            "justify_items": null,
            "left": null,
            "margin": null,
            "max_height": null,
            "max_width": null,
            "min_height": null,
            "min_width": null,
            "object_fit": null,
            "object_position": null,
            "order": null,
            "overflow": null,
            "overflow_x": null,
            "overflow_y": null,
            "padding": null,
            "right": null,
            "top": null,
            "visibility": null,
            "width": null
          }
        },
        "1b7b5c1676234e5a9391ebe5e08264fa": {
          "model_module": "@jupyter-widgets/controls",
          "model_name": "ProgressStyleModel",
          "model_module_version": "1.5.0",
          "state": {
            "_model_module": "@jupyter-widgets/controls",
            "_model_module_version": "1.5.0",
            "_model_name": "ProgressStyleModel",
            "_view_count": null,
            "_view_module": "@jupyter-widgets/base",
            "_view_module_version": "1.2.0",
            "_view_name": "StyleView",
            "bar_color": null,
            "description_width": ""
          }
        },
        "7693cd66b9d14c83ba9d5b9796bf51cc": {
          "model_module": "@jupyter-widgets/base",
          "model_name": "LayoutModel",
          "model_module_version": "1.2.0",
          "state": {
            "_model_module": "@jupyter-widgets/base",
            "_model_module_version": "1.2.0",
            "_model_name": "LayoutModel",
            "_view_count": null,
            "_view_module": "@jupyter-widgets/base",
            "_view_module_version": "1.2.0",
            "_view_name": "LayoutView",
            "align_content": null,
            "align_items": null,
            "align_self": null,
            "border": null,
            "bottom": null,
            "display": null,
            "flex": null,
            "flex_flow": null,
            "grid_area": null,
            "grid_auto_columns": null,
            "grid_auto_flow": null,
            "grid_auto_rows": null,
            "grid_column": null,
            "grid_gap": null,
            "grid_row": null,
            "grid_template_areas": null,
            "grid_template_columns": null,
            "grid_template_rows": null,
            "height": null,
            "justify_content": null,
            "justify_items": null,
            "left": null,
            "margin": null,
            "max_height": null,
            "max_width": null,
            "min_height": null,
            "min_width": null,
            "object_fit": null,
            "object_position": null,
            "order": null,
            "overflow": null,
            "overflow_x": null,
            "overflow_y": null,
            "padding": null,
            "right": null,
            "top": null,
            "visibility": null,
            "width": null
          }
        },
        "6b05143c74314cf08586ff210e257e2a": {
          "model_module": "@jupyter-widgets/controls",
          "model_name": "DescriptionStyleModel",
          "model_module_version": "1.5.0",
          "state": {
            "_model_module": "@jupyter-widgets/controls",
            "_model_module_version": "1.5.0",
            "_model_name": "DescriptionStyleModel",
            "_view_count": null,
            "_view_module": "@jupyter-widgets/base",
            "_view_module_version": "1.2.0",
            "_view_name": "StyleView",
            "description_width": ""
          }
        }
      }
    }
  },
  "cells": [
    {
      "cell_type": "code",
      "source": [
        "!nvidia-smi -L"
      ],
      "metadata": {
        "colab": {
          "base_uri": "https://localhost:8080/"
        },
        "id": "KNUKaf2ZmatO",
        "outputId": "0c36bf21-5205-4cfc-851e-62aea274c3c0"
      },
      "execution_count": 1,
      "outputs": [
        {
          "output_type": "stream",
          "name": "stdout",
          "text": [
            "GPU 0: Tesla T4 (UUID: GPU-66e224d4-a0ad-8dec-9b44-2f0f48465b40)\n"
          ]
        }
      ]
    },
    {
      "cell_type": "code",
      "execution_count": 2,
      "metadata": {
        "id": "9Ny-Xy1HpNWv",
        "colab": {
          "base_uri": "https://localhost:8080/"
        },
        "outputId": "1e3445d2-ba7d-4e22-bb0c-02f044d55d2b"
      },
      "outputs": [
        {
          "output_type": "stream",
          "name": "stdout",
          "text": [
            "Mounted at /content/drive\n"
          ]
        }
      ],
      "source": [
        "from google.colab import drive\n",
        "drive.mount('/content/drive')"
      ]
    },
    {
      "cell_type": "code",
      "source": [
        "import numpy as np\n",
        "import matplotlib.pyplot as plt\n",
        "import os\n",
        "import torch\n",
        "import torch.nn as nn\n",
        "import torch.nn.functional as F\n",
        "import torch.optim as optim \n",
        "from torchvision import datasets \n",
        "from torchvision import transforms\n",
        "from torch.utils.data import Dataset, DataLoader, TensorDataset\n",
        "from torch.optim.lr_scheduler import StepLR \n",
        "from torchvision.transforms.transforms import ToPILImage\n",
        "from PIL import Image\n",
        "import cv2\n",
        "from sklearn.metrics import accuracy_score\n",
        "import seaborn as sn\n",
        "import pandas as pd\n",
        "from sklearn.metrics import confusion_matrix\n"
      ],
      "metadata": {
        "id": "eSwK25GhqvTt"
      },
      "execution_count": 3,
      "outputs": []
    },
    {
      "cell_type": "code",
      "source": [
        "device = torch.device(\"cuda:0\" if torch.cuda.is_available() else \"cpu\")\n",
        "print(device)"
      ],
      "metadata": {
        "colab": {
          "base_uri": "https://localhost:8080/"
        },
        "id": "sYLZseXwG2j6",
        "outputId": "f3f224cc-c65c-409a-d52d-cbb939076a8e"
      },
      "execution_count": 4,
      "outputs": [
        {
          "output_type": "stream",
          "name": "stdout",
          "text": [
            "cuda:0\n"
          ]
        }
      ]
    },
    {
      "cell_type": "markdown",
      "source": [
        "Dataset"
      ],
      "metadata": {
        "id": "k78xjOaHAQ9c"
      }
    },
    {
      "cell_type": "code",
      "source": [
        "class FACE_IMG(Dataset):\n",
        "  def __init__(self, dataset_path, _type, transform=None):\n",
        "    self.transform = transform\n",
        "    self.dataset_path = dataset_path\n",
        "    self.images_path = []\n",
        "    self.images_labels = []\n",
        "    for idx_folder, folder in enumerate(os.listdir(self.dataset_path)):\n",
        "      number_of_images_in_this_folder = len([_ for _ in os.listdir(os.path.join(self.dataset_path, folder))])\n",
        "      for idx, filename in enumerate(os.listdir(os.path.join(self.dataset_path, folder))):\n",
        "        if _type == 'Train' and idx in range(int(number_of_images_in_this_folder * 0.8)):\n",
        "          self.images_path.append(os.path.join(self.dataset_path, folder, filename))\n",
        "          self.images_labels.append(idx_folder)\n",
        "        elif _type == 'Test'and idx in range(int(number_of_images_in_this_folder * 0.8), number_of_images_in_this_folder):\n",
        "          self.images_path.append(os.path.join(self.dataset_path, folder, filename))\n",
        "          self.images_labels.append(idx_folder)\n",
        "\n",
        "  def __len__(self):\n",
        "    return len(self.images_path)\n",
        "\n",
        "  def __getitem__(self, index):\n",
        "    img = cv2.imread(self.images_path[index])\n",
        "    label = self.images_labels[index]\n",
        "    if self.transform:\n",
        "      image = self.transform(img)\n",
        "    one_hot_label = np.zeros(7)\n",
        "    one_hot_label[label] = 1\n",
        "    return image, torch.from_numpy(one_hot_label)\n"
      ],
      "metadata": {
        "id": "uGRsmkiNiVHY"
      },
      "execution_count": 5,
      "outputs": []
    },
    {
      "cell_type": "code",
      "source": [
        "preprocess = transforms.Compose([\n",
        "    transforms.ToPILImage(),\n",
        "    transforms.Resize((256, 256)),\n",
        "    transforms.RandomHorizontalFlip(),\n",
        "    #transforms.ColorJitter(brightness=0.2, contrast=0.2, saturation=0.1, hue=0.1),\n",
        "    transforms.ToTensor(),  \n",
        "    transforms.Normalize((0.485, 0.456, 0.406), (0.229, 0.224, 0.225))\n",
        "])\n",
        "path = \"/content/drive/MyDrive/CK+48\""
      ],
      "metadata": {
        "id": "EV_Q73yalDkV"
      },
      "execution_count": 6,
      "outputs": []
    },
    {
      "cell_type": "code",
      "source": [
        "ds = FACE_IMG(path, 'Test', preprocess)"
      ],
      "metadata": {
        "id": "VTrIKaGCg4F4"
      },
      "execution_count": 7,
      "outputs": []
    },
    {
      "cell_type": "code",
      "source": [
        "ds[10][1]"
      ],
      "metadata": {
        "colab": {
          "base_uri": "https://localhost:8080/"
        },
        "id": "MXptdw-ROTpS",
        "outputId": "bcbf4009-873b-4d65-f8f2-74fa7df40e3f"
      },
      "execution_count": 8,
      "outputs": [
        {
          "output_type": "execute_result",
          "data": {
            "text/plain": [
              "tensor([1., 0., 0., 0., 0., 0., 0.], dtype=torch.float64)"
            ]
          },
          "metadata": {},
          "execution_count": 8
        }
      ]
    },
    {
      "cell_type": "code",
      "source": [
        "plt.imshow(ds[10][0].numpy().transpose([1,2,0]))"
      ],
      "metadata": {
        "colab": {
          "base_uri": "https://localhost:8080/",
          "height": 304
        },
        "id": "KlTNgpRuljWI",
        "outputId": "6cd7dd55-bb06-4715-846a-aba4526e9a32"
      },
      "execution_count": 9,
      "outputs": [
        {
          "output_type": "stream",
          "name": "stderr",
          "text": [
            "WARNING:matplotlib.image:Clipping input data to the valid range for imshow with RGB data ([0..1] for floats or [0..255] for integers).\n"
          ]
        },
        {
          "output_type": "execute_result",
          "data": {
            "text/plain": [
              "<matplotlib.image.AxesImage at 0x7f864ef7a490>"
            ]
          },
          "metadata": {},
          "execution_count": 9
        },
        {
          "output_type": "display_data",
          "data": {
            "text/plain": [
              "<Figure size 432x288 with 1 Axes>"
            ],
            "image/png": "[encoded data removed]"
          },
          "metadata": {
            "needs_background": "light"
          }
        }
      ]
    },
    {
      "cell_type": "code",
      "source": [
        "# 80% train, 20% test\n",
        "BATCH_SIZE = 16\n",
        "trainloader = torch.utils.data.DataLoader(FACE_IMG(path, 'Train', preprocess), batch_size=BATCH_SIZE,   \n",
        "                                          shuffle=True, num_workers=2)\n",
        "\n",
        "testloader = torch.utils.data.DataLoader(FACE_IMG(path, 'Test', preprocess), batch_size=BATCH_SIZE,\n",
        "                                         shuffle=True, num_workers=2)"
      ],
      "metadata": {
        "id": "grLKvua4BCrM"
      },
      "execution_count": 10,
      "outputs": []
    },
    {
      "cell_type": "markdown",
      "source": [
        "Model"
      ],
      "metadata": {
        "id": "AsvsdIRJCgfs"
      }
    },
    {
      "cell_type": "code",
      "source": [
        "import torchvision.models as models\n",
        "\n",
        "face_net = models.vgg16(pretrained=True)"
      ],
      "metadata": {
        "colab": {
          "base_uri": "https://localhost:8080/",
          "height": 156,
          "referenced_widgets": [
            "d622f636ded84408a9805d21e523dba2",
            "656bb81a7b174a4b92ba74a2feb3133c",
            "7317fd8c8f70414f8f976c72848a3a2d",
            "5472612e94154580b7354d7b228d34e2",
            "ee2ca40f17ae4a6185fc7c42d7809687",
            "2740b5bc968f4667aa2b5dd0b81a1b97",
            "e7810533eb6b404d8f347a5035c1c889",
            "93e3952edf8a4f0ea34f543df73f55d4",
            "1b7b5c1676234e5a9391ebe5e08264fa",
            "7693cd66b9d14c83ba9d5b9796bf51cc",
            "6b05143c74314cf08586ff210e257e2a"
          ]
        },
        "id": "2ZSmd6IGCf-m",
        "outputId": "182bb249-0e7f-40cc-8c53-c5fa74e35e55"
      },
      "execution_count": 11,
      "outputs": [
        {
          "output_type": "stream",
          "name": "stderr",
          "text": [
            "/usr/local/lib/python3.7/dist-packages/torchvision/models/_utils.py:209: UserWarning: The parameter 'pretrained' is deprecated since 0.13 and will be removed in 0.15, please use 'weights' instead.\n",
            "  f\"The parameter '{pretrained_param}' is deprecated since 0.13 and will be removed in 0.15, \"\n",
            "/usr/local/lib/python3.7/dist-packages/torchvision/models/_utils.py:223: UserWarning: Arguments other than a weight enum or `None` for 'weights' are deprecated since 0.13 and will be removed in 0.15. The current behavior is equivalent to passing `weights=VGG16_Weights.IMAGENET1K_V1`. You can also use `weights=VGG16_Weights.DEFAULT` to get the most up-to-date weights.\n",
            "  warnings.warn(msg)\n",
            "Downloading: \"https://download.pytorch.org/models/vgg16-397923af.pth\" to /root/.cache/torch/hub/checkpoints/vgg16-397923af.pth\n"
          ]
        },
        {
          "output_type": "display_data",
          "data": {
            "text/plain": [
              "  0%|          | 0.00/528M [00:00<?, ?B/s]"
            ],
            "application/vnd.jupyter.widget-view+json": {
              "version_major": 2,
              "version_minor": 0,
              "model_id": "d622f636ded84408a9805d21e523dba2"
            }
          },
          "metadata": {}
        }
      ]
    },
    {
      "cell_type": "code",
      "source": [
        "face_net"
      ],
      "metadata": {
        "colab": {
          "base_uri": "https://localhost:8080/"
        },
        "id": "gSPfyeS00oRS",
        "outputId": "fa4d4571-a32b-4f21-8146-3764d15eb29c"
      },
      "execution_count": 12,
      "outputs": [
        {
          "output_type": "execute_result",
          "data": {
            "text/plain": [
              "VGG(\n",
              "  (features): Sequential(\n",
              "    (0): Conv2d(3, 64, kernel_size=(3, 3), stride=(1, 1), padding=(1, 1))\n",
              "    (1): ReLU(inplace=True)\n",
              "    (2): Conv2d(64, 64, kernel_size=(3, 3), stride=(1, 1), padding=(1, 1))\n",
              "    (3): ReLU(inplace=True)\n",
              "    (4): MaxPool2d(kernel_size=2, stride=2, padding=0, dilation=1, ceil_mode=False)\n",
              "    (5): Conv2d(64, 128, kernel_size=(3, 3), stride=(1, 1), padding=(1, 1))\n",
              "    (6): ReLU(inplace=True)\n",
              "    (7): Conv2d(128, 128, kernel_size=(3, 3), stride=(1, 1), padding=(1, 1))\n",
              "    (8): ReLU(inplace=True)\n",
              "    (9): MaxPool2d(kernel_size=2, stride=2, padding=0, dilation=1, ceil_mode=False)\n",
              "    (10): Conv2d(128, 256, kernel_size=(3, 3), stride=(1, 1), padding=(1, 1))\n",
              "    (11): ReLU(inplace=True)\n",
              "    (12): Conv2d(256, 256, kernel_size=(3, 3), stride=(1, 1), padding=(1, 1))\n",
              "    (13): ReLU(inplace=True)\n",
              "    (14): Conv2d(256, 256, kernel_size=(3, 3), stride=(1, 1), padding=(1, 1))\n",
              "    (15): ReLU(inplace=True)\n",
              "    (16): MaxPool2d(kernel_size=2, stride=2, padding=0, dilation=1, ceil_mode=False)\n",
              "    (17): Conv2d(256, 512, kernel_size=(3, 3), stride=(1, 1), padding=(1, 1))\n",
              "    (18): ReLU(inplace=True)\n",
              "    (19): Conv2d(512, 512, kernel_size=(3, 3), stride=(1, 1), padding=(1, 1))\n",
              "    (20): ReLU(inplace=True)\n",
              "    (21): Conv2d(512, 512, kernel_size=(3, 3), stride=(1, 1), padding=(1, 1))\n",
              "    (22): ReLU(inplace=True)\n",
              "    (23): MaxPool2d(kernel_size=2, stride=2, padding=0, dilation=1, ceil_mode=False)\n",
              "    (24): Conv2d(512, 512, kernel_size=(3, 3), stride=(1, 1), padding=(1, 1))\n",
              "    (25): ReLU(inplace=True)\n",
              "    (26): Conv2d(512, 512, kernel_size=(3, 3), stride=(1, 1), padding=(1, 1))\n",
              "    (27): ReLU(inplace=True)\n",
              "    (28): Conv2d(512, 512, kernel_size=(3, 3), stride=(1, 1), padding=(1, 1))\n",
              "    (29): ReLU(inplace=True)\n",
              "    (30): MaxPool2d(kernel_size=2, stride=2, padding=0, dilation=1, ceil_mode=False)\n",
              "  )\n",
              "  (avgpool): AdaptiveAvgPool2d(output_size=(7, 7))\n",
              "  (classifier): Sequential(\n",
              "    (0): Linear(in_features=25088, out_features=4096, bias=True)\n",
              "    (1): ReLU(inplace=True)\n",
              "    (2): Dropout(p=0.5, inplace=False)\n",
              "    (3): Linear(in_features=4096, out_features=4096, bias=True)\n",
              "    (4): ReLU(inplace=True)\n",
              "    (5): Dropout(p=0.5, inplace=False)\n",
              "    (6): Linear(in_features=4096, out_features=1000, bias=True)\n",
              "  )\n",
              ")"
            ]
          },
          "metadata": {},
          "execution_count": 12
        }
      ]
    },
    {
      "cell_type": "code",
      "source": [
        "class FaceNet2ExpNet(nn.Module):\n",
        "  def __init__(self):\n",
        "    super(FaceNet2ExpNet, self).__init__()\n",
        "        \n",
        "    features = list(face_net.features)\n",
        "    self.face_net = nn.ModuleList(features)  \n",
        "    for param in self.face_net.parameters(): #freeze face net parameters\n",
        "      param.requires_grad = False\n",
        "    \n",
        "    self.conv1 = nn.Conv2d(in_channels=3, out_channels=64, kernel_size=3, stride=1 , padding=3)\n",
        "    self.max_pool1 = nn.MaxPool2d(kernel_size=3, stride=2, padding=0)\n",
        "    self.conv2 = nn.Conv2d(in_channels=64, out_channels=128, kernel_size=3, stride=1 , padding=3)\n",
        "    self.max_pool2 = nn.MaxPool2d(kernel_size=3, stride=2, padding=0)\n",
        "    self.conv3 = nn.Conv2d(in_channels=128, out_channels=256, kernel_size=3, stride=1 , padding=3)\n",
        "    self.max_pool3 = nn.MaxPool2d(kernel_size=3, stride=2, padding=0)\n",
        "    self.conv4 = nn.Conv2d(in_channels=256, out_channels=512, kernel_size=3, stride=1 , padding=3)\n",
        "    self.max_pool4 = nn.MaxPool2d(kernel_size=3, stride=2, padding=0)\n",
        "    self.conv5 = nn.Conv2d(in_channels=512, out_channels=512, kernel_size=3, stride=1 , padding=3)\n",
        "    self.max_pool5 = nn.MaxPool2d(kernel_size=3, stride=2, padding=0)\n",
        "\n",
        "    #self.last_conv = nn.Conv2d(in_channels=512, out_channels=512, kernel_size=1, stride=3 , padding=6)\n",
        "    self.last_conv = nn.ConvTranspose2d(in_channels=512, out_channels=512, kernel_size=1, stride=1, padding=1)\n",
        "    #self.last_pool = nn.MaxPool2d(kernel_size=3, stride=2, padding=0) #????????????????\n",
        "\n",
        "    self.FC = nn.Linear(in_features=32768, out_features=7)\n",
        "\n",
        "  def stage1_forward(self, x):\n",
        "    x = F.relu(self.conv1(x))\n",
        "    x = self.max_pool1(x)\n",
        "    x = F.relu(self.conv2(x))\n",
        "    x = self.max_pool2(x)\n",
        "    x = F.relu(self.conv3(x))\n",
        "    x = self.max_pool3(x)\n",
        "    x = F.relu(self.conv4(x))\n",
        "    x = self.max_pool4(x)\n",
        "    x = F.relu(self.conv5(x))\n",
        "    x = self.max_pool5(x)\n",
        "\n",
        "    x = self.last_conv(x)\n",
        "    return x\n",
        "  \n",
        "  def faceNet_forward(self, x):\n",
        "    for i,layer in enumerate(self.face_net):\n",
        "      x = layer(x)\n",
        "    return x\n",
        "\n",
        "  def stage2_forward(self, x):\n",
        "    x = self.stage1_forward(x)\n",
        "    #x = self.avgpool(x)\n",
        "    x = torch.flatten(x, 1)\n",
        "    x = self.FC(x)\n",
        "    return x\n",
        "  "
      ],
      "metadata": {
        "id": "VPc3LrkLDT-e"
      },
      "execution_count": 13,
      "outputs": []
    },
    {
      "cell_type": "code",
      "source": [
        "model = FaceNet2ExpNet().to(device)"
      ],
      "metadata": {
        "id": "6tBoJMd_R01f"
      },
      "execution_count": 14,
      "outputs": []
    },
    {
      "cell_type": "code",
      "source": [
        "def save_ckp(state, checkpoint_path): \n",
        "  f_path = checkpoint_path \n",
        "  # save checkpoint data to the path given, checkpoint_path \n",
        "  torch.save(state, f_path)"
      ],
      "metadata": {
        "id": "TpxtHNTzFnZc"
      },
      "execution_count": 15,
      "outputs": []
    },
    {
      "cell_type": "code",
      "source": [
        "def stage1_train(model, epochs, trainloader, testloader, save_path):\n",
        "  loss_train = []\n",
        "  loss_test = []\n",
        "  optimizer = optim.SGD(model.parameters(), lr = 5e-1, momentum = 0.9)\n",
        "  model.stage1_lr = optim.lr_scheduler.StepLR(optimizer, step_size=50, gamma=0.5)\n",
        "  loss_function = nn.MSELoss()\n",
        "\n",
        "  for epoch in range(epochs):\n",
        "    running_loss = 0.0\n",
        "    for i, data in enumerate(trainloader, 0):\n",
        "      img, label = data[0].to(device), data[1]\n",
        "      optimizer.zero_grad()\n",
        "      output = model.stage1_forward(img)\n",
        "      faceNet_output = model.faceNet_forward(img)\n",
        "      loss = loss_function(output, faceNet_output)\n",
        "      loss.backward()\n",
        "      optimizer.step()\n",
        "      running_loss += loss.item()\n",
        "    \n",
        "    #######################################################\n",
        "    loss_train.append(running_loss / (i+1))\n",
        "    print('[%d] loss Train: %.8f' % (epoch + 1, loss_train[-1]))\n",
        "    ################################## Test #################################\n",
        "    if epoch % 5 == 4:\n",
        "      with torch.no_grad():\n",
        "        running_loss_test = 0.0\n",
        "        for j, data_test in enumerate(testloader, 0):\n",
        "          img, label = data_test[0].to(device), data_test[1]\n",
        "          output = model.stage1_forward(img)\n",
        "          faceNet_output = model.faceNet_forward(img)\n",
        "          loss = loss_function(output, faceNet_output)\n",
        "          running_loss_test += loss.item()\n",
        "        loss_test.append(running_loss_test / (j+1))\n",
        "        print('-------------------------------[%d] loss Test: %.8f' % (epoch + 1, loss_test[-1]))\n",
        "\n",
        "      checkpoint = {'epoch': epoch + 1, 'state_dict': model.state_dict(), 'optimizer': optimizer.state_dict()} \n",
        "      save_ckp(checkpoint, save_path)\n",
        "\n",
        "  return loss_train, loss_test\n"
      ],
      "metadata": {
        "id": "CT9zA10wHwew"
      },
      "execution_count": 16,
      "outputs": []
    },
    {
      "cell_type": "code",
      "source": [
        "def plot_stage1_results(loss_train, loss_test):\n",
        "  plt.plot(np.arange(1,len(loss_train)+1), loss_train)\n",
        "  plt.ylabel('loss of Train')\n",
        "  plt.xlabel(\"epochs\")\n",
        "  plt.grid(True)\n",
        "  plt.show()\n",
        "\n",
        "  plt.plot(np.arange(1,len(loss_test)+1), loss_test)\n",
        "  plt.ylabel('loss of Test')\n",
        "  plt.xlabel(\"each 5 epochs\")\n",
        "  plt.grid(True)\n",
        "  plt.show()"
      ],
      "metadata": {
        "id": "UiQ6DIm7GCna"
      },
      "execution_count": 17,
      "outputs": []
    },
    {
      "cell_type": "code",
      "source": [
        "save_path = '/content/drive/MyDrive/DL_Final_Project/model.pt'\n",
        "loss_train, loss_test = stage1_train(model, 100, trainloader, testloader, save_path)"
      ],
      "metadata": {
        "id": "QGkgYLQqSS2j",
        "colab": {
          "base_uri": "https://localhost:8080/"
        },
        "outputId": "8f46ec25-7e65-4375-e583-b0de51967f76"
      },
      "execution_count": 19,
      "outputs": [
        {
          "output_type": "stream",
          "name": "stdout",
          "text": [
            "[1] loss Train: 0.23534162\n",
            "[2] loss Train: 0.22689872\n",
            "[3] loss Train: 0.22040371\n",
            "[4] loss Train: 0.21518867\n",
            "[5] loss Train: 0.21011195\n",
            "-------------------------------[5] loss Test: 0.20810314\n",
            "[6] loss Train: 0.20431937\n",
            "[7] loss Train: 0.20002184\n",
            "[8] loss Train: 0.19652487\n",
            "[9] loss Train: 0.19177687\n",
            "[10] loss Train: 0.18823559\n",
            "-------------------------------[10] loss Test: 0.19398319\n",
            "[11] loss Train: 0.18521739\n",
            "[12] loss Train: 0.18308023\n",
            "[13] loss Train: 0.17967290\n",
            "[14] loss Train: 0.17680636\n",
            "[15] loss Train: 0.17366484\n",
            "-------------------------------[15] loss Test: 0.18266504\n",
            "[16] loss Train: 0.17025745\n",
            "[17] loss Train: 0.16798077\n",
            "[18] loss Train: 0.16548323\n",
            "[19] loss Train: 0.16388055\n",
            "[20] loss Train: 0.15986003\n",
            "-------------------------------[20] loss Test: 0.17349655\n",
            "[21] loss Train: 0.15860692\n",
            "[22] loss Train: 0.15721322\n",
            "[23] loss Train: 0.15406967\n",
            "[24] loss Train: 0.15204679\n",
            "[25] loss Train: 0.14894749\n",
            "-------------------------------[25] loss Test: 0.16639240\n",
            "[26] loss Train: 0.14779978\n",
            "[27] loss Train: 0.14593360\n",
            "[28] loss Train: 0.14406406\n",
            "[29] loss Train: 0.14233118\n",
            "[30] loss Train: 0.14010984\n",
            "-------------------------------[30] loss Test: 0.16009916\n",
            "[31] loss Train: 0.13789023\n",
            "[32] loss Train: 0.13715721\n",
            "[33] loss Train: 0.13535603\n",
            "[34] loss Train: 0.13502865\n",
            "[35] loss Train: 0.13284806\n",
            "-------------------------------[35] loss Test: 0.15439050\n",
            "[36] loss Train: 0.13208519\n",
            "[37] loss Train: 0.13002626\n",
            "[38] loss Train: 0.12868070\n",
            "[39] loss Train: 0.12814728\n",
            "[40] loss Train: 0.12636533\n",
            "-------------------------------[40] loss Test: 0.15288277\n",
            "[41] loss Train: 0.12553278\n",
            "[42] loss Train: 0.12399486\n",
            "[43] loss Train: 0.12321519\n",
            "[44] loss Train: 0.12273521\n",
            "[45] loss Train: 0.12117588\n",
            "-------------------------------[45] loss Test: 0.14818387\n",
            "[46] loss Train: 0.12008140\n",
            "[47] loss Train: 0.11907997\n",
            "[48] loss Train: 0.11873410\n",
            "[49] loss Train: 0.11811899\n",
            "[50] loss Train: 0.11809917\n",
            "-------------------------------[50] loss Test: 0.14500267\n",
            "[51] loss Train: 0.11566892\n",
            "[52] loss Train: 0.11526498\n",
            "[53] loss Train: 0.11434719\n",
            "[54] loss Train: 0.11303915\n",
            "[55] loss Train: 0.11286972\n",
            "-------------------------------[55] loss Test: 0.14510183\n",
            "[56] loss Train: 0.11344294\n",
            "[57] loss Train: 0.11195757\n",
            "[58] loss Train: 0.11045384\n",
            "[59] loss Train: 0.11014023\n",
            "[60] loss Train: 0.10943551\n",
            "-------------------------------[60] loss Test: 0.14062342\n",
            "[61] loss Train: 0.10860697\n",
            "[62] loss Train: 0.10863934\n",
            "[63] loss Train: 0.10772257\n",
            "[64] loss Train: 0.10672820\n",
            "[65] loss Train: 0.10691212\n",
            "-------------------------------[65] loss Test: 0.13748188\n",
            "[66] loss Train: 0.10659781\n",
            "[67] loss Train: 0.10518615\n",
            "[68] loss Train: 0.10477851\n",
            "[69] loss Train: 0.10477329\n",
            "[70] loss Train: 0.10421063\n",
            "-------------------------------[70] loss Test: 0.13894084\n",
            "[71] loss Train: 0.10356489\n",
            "[72] loss Train: 0.10289290\n",
            "[73] loss Train: 0.10239911\n",
            "[74] loss Train: 0.10187981\n",
            "[75] loss Train: 0.10165066\n",
            "-------------------------------[75] loss Test: 0.13840936\n",
            "[76] loss Train: 0.10141667\n",
            "[77] loss Train: 0.10095971\n",
            "[78] loss Train: 0.09994764\n",
            "[79] loss Train: 0.10009643\n",
            "[80] loss Train: 0.09938636\n",
            "-------------------------------[80] loss Test: 0.13591826\n",
            "[81] loss Train: 0.09937356\n",
            "[82] loss Train: 0.09946880\n",
            "[83] loss Train: 0.09875100\n",
            "[84] loss Train: 0.09796513\n",
            "[85] loss Train: 0.09788408\n",
            "-------------------------------[85] loss Test: 0.13641995\n",
            "[86] loss Train: 0.09752828\n",
            "[87] loss Train: 0.09729644\n",
            "[88] loss Train: 0.09696010\n",
            "[89] loss Train: 0.09629881\n",
            "[90] loss Train: 0.09687476\n",
            "-------------------------------[90] loss Test: 0.13507539\n",
            "[91] loss Train: 0.09598452\n",
            "[92] loss Train: 0.09568667\n",
            "[93] loss Train: 0.09526113\n",
            "[94] loss Train: 0.09438403\n",
            "[95] loss Train: 0.09441176\n",
            "-------------------------------[95] loss Test: 0.13426625\n",
            "[96] loss Train: 0.09430235\n",
            "[97] loss Train: 0.09419812\n",
            "[98] loss Train: 0.09433770\n",
            "[99] loss Train: 0.09397871\n",
            "[100] loss Train: 0.09363420\n",
            "-------------------------------[100] loss Test: 0.13371080\n"
          ]
        }
      ]
    },
    {
      "cell_type": "code",
      "source": [
        "plot_stage1_results(loss_train, loss_test)"
      ],
      "metadata": {
        "id": "emzvH43gHXKq",
        "colab": {
          "base_uri": "https://localhost:8080/",
          "height": 542
        },
        "outputId": "b272e095-63aa-4f2e-bcb6-2b5a069824dc"
      },
      "execution_count": 20,
      "outputs": [
        {
          "output_type": "display_data",
          "data": {
            "text/plain": [
              "<Figure size 432x288 with 1 Axes>"
            ],
            "image/png": "[encoded data removed]"
          },
          "metadata": {
            "needs_background": "light"
          }
        },
        {
          "output_type": "display_data",
          "data": {
            "text/plain": [
              "<Figure size 432x288 with 1 Axes>"
            ],
            "image/png": "[encoded data removed]"
          },
          "metadata": {
            "needs_background": "light"
          }
        }
      ]
    },
    {
      "cell_type": "code",
      "source": [
        "def stage2_train(self, epochs, trainloader, testloader):\n",
        "  loss_train = []\n",
        "  loss_test = []\n",
        "  acc_test = []\n",
        "\n",
        "  y_pred = []\n",
        "  y_true = []\n",
        "\n",
        "  optimizer = optim.SGD(model.parameters(), lr = 1e-3, momentum = 0.9)\n",
        "  loss_function = nn.CrossEntropyLoss()\n",
        "\n",
        "  for epoch in range(epochs):\n",
        "    running_loss = 0.0\n",
        "    for i, data in enumerate(trainloader, 0):\n",
        "      img, label = data[0].to(device), data[1].to(device)\n",
        "      optimizer.zero_grad()\n",
        "      output = self.stage2_forward(img)\n",
        "      loss = loss_function(output, label)\n",
        "      loss.backward()\n",
        "      optimizer.step()\n",
        "      running_loss += loss.item()\n",
        "    #######################################################\n",
        "    loss_train.append(running_loss / (i+1))\n",
        "    print('[%d] loss Train: %.8f' % (epoch + 1, loss_train[-1]))\n",
        "    ################################## Test #################################\n",
        "    \n",
        "    with torch.no_grad():\n",
        "      running_loss_test = 0.0\n",
        "      running_acc = 0.0\n",
        "  \n",
        "      for j, data_test in enumerate(testloader, 0):\n",
        "        img, label = data_test[0].to(device), data_test[1].to(device)\n",
        "        output = self.stage2_forward(img)\n",
        "\n",
        "        y_pred.extend(torch.argmax(output, 1).cpu().numpy())\n",
        "        y_true.extend(torch.argmax(label, 1).cpu().numpy())\n",
        "        \n",
        "        loss = loss_function(output, label)\n",
        "        running_acc += accuracy_score(torch.argmax(label, 1).cpu().numpy(), torch.argmax(output, 1).cpu().numpy())\n",
        "        running_loss_test += loss.item()\n",
        "      acc_test.append(running_acc / (j+1))\n",
        "      loss_test.append(running_loss_test / (j+1))\n",
        "      print('----------------------[%d] loss Test: %.8f , Accuracy: %.4f' % (epoch + 1, loss_test[-1], acc_test[-1]))\n",
        "    \n",
        "    if epoch % 3 == 2:\n",
        "      checkpoint = {'epoch': epoch + 1, 'state_dict': model.state_dict(), 'optimizer': optimizer.state_dict()} \n",
        "      save_ckp(checkpoint, save_path)\n",
        "\n",
        "  return loss_train, loss_test, acc_test, y_pred, y_true\n"
      ],
      "metadata": {
        "id": "qCeik3XCSGeo"
      },
      "execution_count": 21,
      "outputs": []
    },
    {
      "cell_type": "code",
      "source": [
        "def plot_stage2_results(loss_train, loss_test, acc_test):\n",
        "  plt.plot(np.arange(1,len(loss_train)+1), loss_train)\n",
        "  plt.ylabel('loss of Train')\n",
        "  plt.xlabel(\"epochs\")\n",
        "  plt.grid(True)\n",
        "  plt.show()\n",
        "\n",
        "  plt.plot(np.arange(1,len(loss_test)+1), loss_test)\n",
        "  plt.ylabel('loss of Test')\n",
        "  plt.xlabel(\"epochs\")\n",
        "  plt.grid(True)\n",
        "  plt.show()\n",
        "\n",
        "  plt.plot(np.arange(1,len(acc_test)+1), acc_test)\n",
        "  plt.ylabel('Accuracy of Test')\n",
        "  plt.xlabel(\"epochs\")\n",
        "  plt.grid(True)\n",
        "  plt.show()"
      ],
      "metadata": {
        "id": "FBGlPbeXHzIT"
      },
      "execution_count": 22,
      "outputs": []
    },
    {
      "cell_type": "code",
      "source": [
        "def plot_confusion_matrix(y_pred, y_true):\n",
        "\n",
        "  classes = ('anger', 'contempt', 'disgust', 'fear', 'happy','sadness', 'surprise')\n",
        "\n",
        "  cf_matrix = confusion_matrix(y_true, y_pred)\n",
        "  df_cm = pd.DataFrame(cf_matrix/np.sum(cf_matrix) *7, index = [i for i in classes],columns = [i for i in classes])\n",
        "  \n",
        "  plt.figure(figsize = (12,7))\n",
        "  sn.heatmap(df_cm, annot=True)"
      ],
      "metadata": {
        "id": "USSx2vXgY3d5"
      },
      "execution_count": 23,
      "outputs": []
    },
    {
      "cell_type": "code",
      "source": [
        "stage2_loss_train, stage2_loss_test, acc_test, y_pred, y_true= stage2_train(model, 15, trainloader, testloader)"
      ],
      "metadata": {
        "id": "n31R7w9nzHvo",
        "colab": {
          "base_uri": "https://localhost:8080/"
        },
        "outputId": "41f9c1d6-08f6-44ab-da87-298e41a90d06"
      },
      "execution_count": 24,
      "outputs": [
        {
          "output_type": "stream",
          "name": "stdout",
          "text": [
            "[1] loss Train: 0.58402329\n",
            "----------------------[1] loss Test: 0.37731160 , Accuracy: 0.8846\n",
            "[2] loss Train: 0.06183964\n",
            "----------------------[2] loss Test: 0.25875840 , Accuracy: 0.9519\n",
            "[3] loss Train: 0.01240665\n",
            "----------------------[3] loss Test: 0.21937321 , Accuracy: 0.9663\n",
            "[4] loss Train: 0.01104227\n",
            "----------------------[4] loss Test: 0.22940245 , Accuracy: 0.9615\n",
            "[5] loss Train: 0.00700919\n",
            "----------------------[5] loss Test: 0.31213874 , Accuracy: 0.9631\n",
            "[6] loss Train: 0.00234395\n",
            "----------------------[6] loss Test: 0.32452016 , Accuracy: 0.9631\n",
            "[7] loss Train: 0.00198900\n",
            "----------------------[7] loss Test: 0.23131425 , Accuracy: 0.9631\n",
            "[8] loss Train: 0.00162309\n",
            "----------------------[8] loss Test: 0.22408812 , Accuracy: 0.9712\n",
            "[9] loss Train: 0.00143566\n",
            "----------------------[9] loss Test: 0.22429371 , Accuracy: 0.9712\n",
            "[10] loss Train: 0.00121198\n",
            "----------------------[10] loss Test: 0.22363051 , Accuracy: 0.9712\n",
            "[11] loss Train: 0.00112742\n",
            "----------------------[11] loss Test: 0.33666379 , Accuracy: 0.9631\n",
            "[12] loss Train: 0.00102886\n",
            "----------------------[12] loss Test: 0.22919587 , Accuracy: 0.9712\n",
            "[13] loss Train: 0.00095865\n",
            "----------------------[13] loss Test: 0.25136041 , Accuracy: 0.9631\n",
            "[14] loss Train: 0.00090709\n",
            "----------------------[14] loss Test: 0.23279870 , Accuracy: 0.9712\n",
            "[15] loss Train: 0.00078851\n",
            "----------------------[15] loss Test: 0.23692929 , Accuracy: 0.9712\n"
          ]
        }
      ]
    },
    {
      "cell_type": "code",
      "source": [
        "plot_stage2_results(stage2_loss_train, stage2_loss_test, acc_test)"
      ],
      "metadata": {
        "id": "yw9gyQ_vIf2_",
        "colab": {
          "base_uri": "https://localhost:8080/",
          "height": 803
        },
        "outputId": "5fbfe8ba-d8b1-4fa5-ee0f-64787249b2f7"
      },
      "execution_count": 25,
      "outputs": [
        {
          "output_type": "display_data",
          "data": {
            "text/plain": [
              "<Figure size 432x288 with 1 Axes>"
            ],
            "image/png": "[encoded data removed]"
          },
          "metadata": {
            "needs_background": "light"
          }
        },
        {
          "output_type": "display_data",
          "data": {
            "text/plain": [
              "<Figure size 432x288 with 1 Axes>"
            ],
            "image/png": "[encoded data removed]"
          },
          "metadata": {
            "needs_background": "light"
          }
        },
        {
          "output_type": "display_data",
          "data": {
            "text/plain": [
              "<Figure size 432x288 with 1 Axes>"
            ],
            "image/png": "[encoded data removed]"
          },
          "metadata": {
            "needs_background": "light"
          }
        }
      ]
    },
    {
      "cell_type": "code",
      "source": [
        "plot_confusion_matrix(y_pred, y_true)"
      ],
      "metadata": {
        "id": "X-9-F9p_Powz",
        "colab": {
          "base_uri": "https://localhost:8080/",
          "height": 428
        },
        "outputId": "fd8cbb45-59e9-4403-8574-3f9dfa0f1edc"
      },
      "execution_count": 26,
      "outputs": [
        {
          "output_type": "display_data",
          "data": {
            "text/plain": [
              "<Figure size 864x504 with 2 Axes>"
            ],
            "image/png": "[encoded data removed]"
          },
          "metadata": {
            "needs_background": "light"
          }
        }
      ]
    }
  ]
}